{
 "cells": [
  {
   "cell_type": "markdown",
   "metadata": {},
   "source": [
    "# Punctuation in novels\n",
    "Inspired by [Punctuation in novels](https://medium.com/@neuroecology/punctuation-in-novels-8f316d542ec4#.qwj8e1n8m).\n",
    "\n",
    "Texts used here are [The complete works of Sherlock Holmes](sherlock.txt), [War and Peace](war-and-peace.txt), [The complete works of Shakespeare](shakespeare.txt), [Ulysses](ulysses.txt), and [Pride and Prejudice](pride-and-prejudice.txt)."
   ]
  },
  {
   "cell_type": "code",
   "execution_count": 7,
   "metadata": {
    "collapsed": false
   },
   "outputs": [],
   "source": [
    "import string\n",
    "import collections\n",
    "from PIL import Image, ImageDraw\n",
    "from math import ceil\n",
    "import matplotlib as mpl\n",
    "import matplotlib.pyplot as plt\n",
    "%matplotlib inline\n",
    "import pandas as pd"
   ]
  },
  {
   "cell_type": "markdown",
   "metadata": {},
   "source": [
    "The `string` module has some nice subsets of characters. Does it know about punctuation?"
   ]
  },
  {
   "cell_type": "code",
   "execution_count": 8,
   "metadata": {
    "collapsed": false
   },
   "outputs": [
    {
     "data": {
      "text/plain": [
       "'!\"#$%&\\'()*+,-./:;<=>?@[\\\\]^_`{|}~'"
      ]
     },
     "execution_count": 8,
     "metadata": {},
     "output_type": "execute_result"
    }
   ],
   "source": [
    "string.punctuation"
   ]
  },
  {
   "cell_type": "markdown",
   "metadata": {},
   "source": [
    "## Getting the punctuation\n",
    "First, let's just open a text file and read the punctuation. We can also count the number of different punctuation characters in it."
   ]
  },
  {
   "cell_type": "code",
   "execution_count": 9,
   "metadata": {
    "collapsed": true
   },
   "outputs": [],
   "source": [
    "sherlock = open('sherlock-holmes.txt').read()"
   ]
  },
  {
   "cell_type": "code",
   "execution_count": 10,
   "metadata": {
    "collapsed": false
   },
   "outputs": [
    {
     "name": "stdout",
     "output_type": "stream",
     "text": [
      "..-.......'.........,,,.,,,.,.-'..,-,.,,...,-,,,,,,,,.,,,,.:,,.,,,.-,-(,.-,,,,.,,,,.,,.,,..-...;,,.,,,,..\"\".\",,\"\"\".\",.,,.,.\"\",\"\",.,\"\"\",\".,.,'.,,,,,\",.\"\";\",,..,,,-.,,,-,,,\".\"\",\",.\"\"\",,.\",..,\"\"\"\"\"\",\"\"\"\"?'\"\"!...,,.--,,,\",--.\"\".\"\",.\"-,'\",\"...,\"\"\".\"\"\"..,..\",.\"\",'.\".\"\"-\".\".\",\"\"\"\"\"\"\"\"\"\".\"\".\",;,\"\".'''''''''''',''''\".\",-,.--,.',--',,,\",.\"\".\"..-''..,,.,,\"',..\",\".\"\",.\"..',,\"\",\"\",....\"\"-\"\".,..,,\",,..\"\".,.,,.-,-.,,.-,,,,,.,,,,.\"\".\"\",.\"\".\",.,.\"\",.,,,.,\",.\",\".\"\".\"\",\";.\"\"\".\"\"\"\".\",\"\"\".\",.,,\"\"\",.,..\"\",\"\".,,.\"\";\".\n"
     ]
    }
   ],
   "source": [
    "sherlock_punct = [c for c in sherlock if c in string.punctuation]\n",
    "print(''.join(sherlock_punct)[:500])"
   ]
  },
  {
   "cell_type": "code",
   "execution_count": 11,
   "metadata": {
    "collapsed": false
   },
   "outputs": [
    {
     "data": {
      "text/plain": [
       "Counter({'!': 171,\n",
       "         '\"': 4834,\n",
       "         '&': 5,\n",
       "         \"'\": 1490,\n",
       "         '(': 5,\n",
       "         ',': 7053,\n",
       "         '-': 965,\n",
       "         '.': 4843,\n",
       "         '/': 1,\n",
       "         ':': 56,\n",
       "         ';': 202,\n",
       "         '?': 138})"
      ]
     },
     "execution_count": 11,
     "metadata": {},
     "output_type": "execute_result"
    }
   ],
   "source": [
    "sherlock_counts = collections.Counter(sherlock_punct)\n",
    "sherlock_counts"
   ]
  },
  {
   "cell_type": "code",
   "execution_count": 12,
   "metadata": {
    "collapsed": false
   },
   "outputs": [
    {
     "data": {
      "text/plain": [
       "!     171\n",
       "\"    4834\n",
       "&       5\n",
       "'    1490\n",
       "(       5\n",
       ",    7053\n",
       "-     965\n",
       ".    4843\n",
       "/       1\n",
       ":      56\n",
       ";     202\n",
       "?     138\n",
       "dtype: int64"
      ]
     },
     "execution_count": 12,
     "metadata": {},
     "output_type": "execute_result"
    }
   ],
   "source": [
    "sherlock_ps = pd.Series(sherlock_counts)\n",
    "sherlock_ps.sort_index(inplace=True)\n",
    "sherlock_ps"
   ]
  },
  {
   "cell_type": "code",
   "execution_count": 13,
   "metadata": {
    "collapsed": false
   },
   "outputs": [
    {
     "data": {
      "text/plain": [
       "<matplotlib.axes._subplots.AxesSubplot at 0x7f6556d5c748>"
      ]
     },
     "execution_count": 13,
     "metadata": {},
     "output_type": "execute_result"
    },
    {
     "data": {
      "image/png": "[encoded data removed]",
      "text/plain": [
       "<matplotlib.figure.Figure at 0x7f6556db5e48>"
      ]
     },
     "metadata": {},
     "output_type": "display_data"
    }
   ],
   "source": [
    "sherlock_ps.plot(kind=\"bar\")"
   ]
  },
  {
   "cell_type": "markdown",
   "metadata": {},
   "source": [
    "Now we can read and process a novel, wrap that into a function and read some other novels"
   ]
  },
  {
   "cell_type": "code",
   "execution_count": 14,
   "metadata": {
    "collapsed": true
   },
   "outputs": [],
   "source": [
    "def punct_summarise(fname):\n",
    "    content = open(fname).read()\n",
    "    punct = ''.join(c for c in content if c in string.punctuation)\n",
    "    counts = collections.Counter(punct)\n",
    "    return {'punctuation': punct, 'counts': counts}"
   ]
  },
  {
   "cell_type": "code",
   "execution_count": 15,
   "metadata": {
    "collapsed": false
   },
   "outputs": [
    {
     "data": {
      "text/plain": [
       "Counter({'!': 171,\n",
       "         '\"': 4834,\n",
       "         '&': 5,\n",
       "         \"'\": 1490,\n",
       "         '(': 5,\n",
       "         ',': 7053,\n",
       "         '-': 965,\n",
       "         '.': 4843,\n",
       "         '/': 1,\n",
       "         ':': 56,\n",
       "         ';': 202,\n",
       "         '?': 138})"
      ]
     },
     "execution_count": 15,
     "metadata": {},
     "output_type": "execute_result"
    }
   ],
   "source": [
    "# Complete Sherlock Holmes\n",
    "sherlock = punct_summarise('sherlock-holmes.txt')\n",
    "sherlock['counts']"
   ]
  },
  {
   "cell_type": "code",
   "execution_count": 16,
   "metadata": {
    "collapsed": false
   },
   "outputs": [
    {
     "data": {
      "text/plain": [
       "Counter({'!': 3923,\n",
       "         '\"': 17970,\n",
       "         '#': 1,\n",
       "         '$': 2,\n",
       "         '%': 1,\n",
       "         \"'\": 7529,\n",
       "         '(': 670,\n",
       "         ')': 670,\n",
       "         '*': 300,\n",
       "         ',': 39891,\n",
       "         '-': 6308,\n",
       "         '.': 30805,\n",
       "         '/': 29,\n",
       "         ':': 1014,\n",
       "         ';': 1145,\n",
       "         '=': 2,\n",
       "         '?': 3137,\n",
       "         '@': 2,\n",
       "         '[': 1,\n",
       "         ']': 1})"
      ]
     },
     "execution_count": 16,
     "metadata": {},
     "output_type": "execute_result"
    }
   ],
   "source": [
    "wap = punct_summarise('war-and-peace.txt')\n",
    "wap['counts']"
   ]
  },
  {
   "cell_type": "code",
   "execution_count": 17,
   "metadata": {
    "collapsed": false
   },
   "outputs": [
    {
     "data": {
      "text/plain": [
       "Counter({'!': 10815,\n",
       "         '\"': 6,\n",
       "         '&': 10,\n",
       "         \"'\": 27942,\n",
       "         ',': 82750,\n",
       "         '-': 4590,\n",
       "         '.': 36881,\n",
       "         ':': 10649,\n",
       "         ';': 17400,\n",
       "         '?': 10327,\n",
       "         '[': 19,\n",
       "         ']': 18})"
      ]
     },
     "execution_count": 17,
     "metadata": {},
     "output_type": "execute_result"
    }
   ],
   "source": [
    "# Complete works of Shakespeare\n",
    "shakespeare = punct_summarise('shakespeare.txt')\n",
    "shakespeare['counts']"
   ]
  },
  {
   "cell_type": "code",
   "execution_count": 18,
   "metadata": {
    "collapsed": false
   },
   "outputs": [
    {
     "data": {
      "text/plain": [
       "Counter({'!': 1576,\n",
       "         '\"': 8,\n",
       "         '%': 3,\n",
       "         '&': 3,\n",
       "         \"'\": 4485,\n",
       "         '(': 1777,\n",
       "         ')': 1788,\n",
       "         '*': 90,\n",
       "         '+': 2,\n",
       "         ',': 16349,\n",
       "         '-': 5037,\n",
       "         '.': 21361,\n",
       "         '/': 58,\n",
       "         ':': 2564,\n",
       "         ';': 34,\n",
       "         '?': 2235,\n",
       "         '_': 4566})"
      ]
     },
     "execution_count": 18,
     "metadata": {},
     "output_type": "execute_result"
    }
   ],
   "source": [
    "ulysses = punct_summarise('ulysses.txt')\n",
    "ulysses['counts']"
   ]
  },
  {
   "cell_type": "code",
   "execution_count": 19,
   "metadata": {
    "collapsed": false
   },
   "outputs": [
    {
     "data": {
      "text/plain": [
       "Counter({'!': 500,\n",
       "         '\"': 3553,\n",
       "         '#': 1,\n",
       "         '$': 2,\n",
       "         '%': 1,\n",
       "         \"'\": 748,\n",
       "         '(': 38,\n",
       "         ')': 38,\n",
       "         '*': 58,\n",
       "         ',': 9280,\n",
       "         '-': 1193,\n",
       "         '.': 6396,\n",
       "         '/': 26,\n",
       "         ':': 155,\n",
       "         ';': 1538,\n",
       "         '?': 462,\n",
       "         '@': 2,\n",
       "         '[': 1,\n",
       "         ']': 2,\n",
       "         '_': 808})"
      ]
     },
     "execution_count": 19,
     "metadata": {},
     "output_type": "execute_result"
    }
   ],
   "source": [
    "pap = punct_summarise('pride-and-prejudice.txt')\n",
    "pap['counts']"
   ]
  },
  {
   "cell_type": "markdown",
   "metadata": {},
   "source": [
    "Place all the counts into a Pandas dataframe, normalise them, and then plot them."
   ]
  },
  {
   "cell_type": "code",
   "execution_count": 20,
   "metadata": {
    "collapsed": false
   },
   "outputs": [
    {
     "data": {
      "text/html": [
       "<div>\n",
       "<table border=\"1\" class=\"dataframe\">\n",
       "  <thead>\n",
       "    <tr style=\"text-align: right;\">\n",
       "      <th></th>\n",
       "      <th>pap</th>\n",
       "      <th>shakespeare</th>\n",
       "      <th>sherlock</th>\n",
       "      <th>ulysses</th>\n",
       "      <th>wap</th>\n",
       "    </tr>\n",
       "  </thead>\n",
       "  <tbody>\n",
       "    <tr>\n",
       "      <th>!</th>\n",
       "      <td>500</td>\n",
       "      <td>10815</td>\n",
       "      <td>171</td>\n",
       "      <td>1576</td>\n",
       "      <td>3923</td>\n",
       "    </tr>\n",
       "    <tr>\n",
       "      <th>\"</th>\n",
       "      <td>3553</td>\n",
       "      <td>6</td>\n",
       "      <td>4834</td>\n",
       "      <td>8</td>\n",
       "      <td>17970</td>\n",
       "    </tr>\n",
       "    <tr>\n",
       "      <th>#</th>\n",
       "      <td>1</td>\n",
       "      <td>0</td>\n",
       "      <td>0</td>\n",
       "      <td>0</td>\n",
       "      <td>1</td>\n",
       "    </tr>\n",
       "    <tr>\n",
       "      <th>$</th>\n",
       "      <td>2</td>\n",
       "      <td>0</td>\n",
       "      <td>0</td>\n",
       "      <td>0</td>\n",
       "      <td>2</td>\n",
       "    </tr>\n",
       "    <tr>\n",
       "      <th>%</th>\n",
       "      <td>1</td>\n",
       "      <td>0</td>\n",
       "      <td>0</td>\n",
       "      <td>3</td>\n",
       "      <td>1</td>\n",
       "    </tr>\n",
       "    <tr>\n",
       "      <th>&amp;</th>\n",
       "      <td>0</td>\n",
       "      <td>10</td>\n",
       "      <td>5</td>\n",
       "      <td>3</td>\n",
       "      <td>0</td>\n",
       "    </tr>\n",
       "    <tr>\n",
       "      <th>'</th>\n",
       "      <td>748</td>\n",
       "      <td>27942</td>\n",
       "      <td>1490</td>\n",
       "      <td>4485</td>\n",
       "      <td>7529</td>\n",
       "    </tr>\n",
       "    <tr>\n",
       "      <th>(</th>\n",
       "      <td>38</td>\n",
       "      <td>0</td>\n",
       "      <td>5</td>\n",
       "      <td>1777</td>\n",
       "      <td>670</td>\n",
       "    </tr>\n",
       "    <tr>\n",
       "      <th>)</th>\n",
       "      <td>38</td>\n",
       "      <td>0</td>\n",
       "      <td>0</td>\n",
       "      <td>1788</td>\n",
       "      <td>670</td>\n",
       "    </tr>\n",
       "    <tr>\n",
       "      <th>*</th>\n",
       "      <td>58</td>\n",
       "      <td>0</td>\n",
       "      <td>0</td>\n",
       "      <td>90</td>\n",
       "      <td>300</td>\n",
       "    </tr>\n",
       "    <tr>\n",
       "      <th>+</th>\n",
       "      <td>0</td>\n",
       "      <td>0</td>\n",
       "      <td>0</td>\n",
       "      <td>2</td>\n",
       "      <td>0</td>\n",
       "    </tr>\n",
       "    <tr>\n",
       "      <th>,</th>\n",
       "      <td>9280</td>\n",
       "      <td>82750</td>\n",
       "      <td>7053</td>\n",
       "      <td>16349</td>\n",
       "      <td>39891</td>\n",
       "    </tr>\n",
       "    <tr>\n",
       "      <th>-</th>\n",
       "      <td>1193</td>\n",
       "      <td>4590</td>\n",
       "      <td>965</td>\n",
       "      <td>5037</td>\n",
       "      <td>6308</td>\n",
       "    </tr>\n",
       "    <tr>\n",
       "      <th>.</th>\n",
       "      <td>6396</td>\n",
       "      <td>36881</td>\n",
       "      <td>4843</td>\n",
       "      <td>21361</td>\n",
       "      <td>30805</td>\n",
       "    </tr>\n",
       "    <tr>\n",
       "      <th>/</th>\n",
       "      <td>26</td>\n",
       "      <td>0</td>\n",
       "      <td>1</td>\n",
       "      <td>58</td>\n",
       "      <td>29</td>\n",
       "    </tr>\n",
       "    <tr>\n",
       "      <th>:</th>\n",
       "      <td>155</td>\n",
       "      <td>10649</td>\n",
       "      <td>56</td>\n",
       "      <td>2564</td>\n",
       "      <td>1014</td>\n",
       "    </tr>\n",
       "    <tr>\n",
       "      <th>;</th>\n",
       "      <td>1538</td>\n",
       "      <td>17400</td>\n",
       "      <td>202</td>\n",
       "      <td>34</td>\n",
       "      <td>1145</td>\n",
       "    </tr>\n",
       "    <tr>\n",
       "      <th>=</th>\n",
       "      <td>0</td>\n",
       "      <td>0</td>\n",
       "      <td>0</td>\n",
       "      <td>0</td>\n",
       "      <td>2</td>\n",
       "    </tr>\n",
       "    <tr>\n",
       "      <th>?</th>\n",
       "      <td>462</td>\n",
       "      <td>10327</td>\n",
       "      <td>138</td>\n",
       "      <td>2235</td>\n",
       "      <td>3137</td>\n",
       "    </tr>\n",
       "    <tr>\n",
       "      <th>@</th>\n",
       "      <td>2</td>\n",
       "      <td>0</td>\n",
       "      <td>0</td>\n",
       "      <td>0</td>\n",
       "      <td>2</td>\n",
       "    </tr>\n",
       "    <tr>\n",
       "      <th>[</th>\n",
       "      <td>1</td>\n",
       "      <td>19</td>\n",
       "      <td>0</td>\n",
       "      <td>0</td>\n",
       "      <td>1</td>\n",
       "    </tr>\n",
       "    <tr>\n",
       "      <th>]</th>\n",
       "      <td>2</td>\n",
       "      <td>18</td>\n",
       "      <td>0</td>\n",
       "      <td>0</td>\n",
       "      <td>1</td>\n",
       "    </tr>\n",
       "    <tr>\n",
       "      <th>_</th>\n",
       "      <td>808</td>\n",
       "      <td>0</td>\n",
       "      <td>0</td>\n",
       "      <td>4566</td>\n",
       "      <td>0</td>\n",
       "    </tr>\n",
       "  </tbody>\n",
       "</table>\n",
       "</div>"
      ],
      "text/plain": [
       "    pap  shakespeare  sherlock  ulysses    wap\n",
       "!   500        10815       171     1576   3923\n",
       "\"  3553            6      4834        8  17970\n",
       "#     1            0         0        0      1\n",
       "$     2            0         0        0      2\n",
       "%     1            0         0        3      1\n",
       "&     0           10         5        3      0\n",
       "'   748        27942      1490     4485   7529\n",
       "(    38            0         5     1777    670\n",
       ")    38            0         0     1788    670\n",
       "*    58            0         0       90    300\n",
       "+     0            0         0        2      0\n",
       ",  9280        82750      7053    16349  39891\n",
       "-  1193         4590       965     5037   6308\n",
       ".  6396        36881      4843    21361  30805\n",
       "/    26            0         1       58     29\n",
       ":   155        10649        56     2564   1014\n",
       ";  1538        17400       202       34   1145\n",
       "=     0            0         0        0      2\n",
       "?   462        10327       138     2235   3137\n",
       "@     2            0         0        0      2\n",
       "[     1           19         0        0      1\n",
       "]     2           18         0        0      1\n",
       "_   808            0         0     4566      0"
      ]
     },
     "execution_count": 20,
     "metadata": {},
     "output_type": "execute_result"
    }
   ],
   "source": [
    "punctuation = pd.DataFrame({'sherlock': sherlock['counts'],\n",
    "                            'wap': wap['counts'],\n",
    "                            'shakespeare': shakespeare['counts'],\n",
    "                            'ulysses': ulysses['counts'],\n",
    "                            'pap': pap['counts']})\n",
    "punctuation.fillna(value=0, inplace=True)\n",
    "punctuation"
   ]
  },
  {
   "cell_type": "code",
   "execution_count": 21,
   "metadata": {
    "collapsed": false
   },
   "outputs": [
    {
     "data": {
      "text/plain": [
       "<matplotlib.legend.Legend at 0x7f6556dc50f0>"
      ]
     },
     "execution_count": 21,
     "metadata": {},
     "output_type": "execute_result"
    },
    {
     "data": {
      "image/png": "[encoded data removed]",
      "text/plain": [
       "<matplotlib.figure.Figure at 0x7f6556dc55c0>"
      ]
     },
     "metadata": {},
     "output_type": "display_data"
    }
   ],
   "source": [
    "punctuation_normalised = punctuation.div(punctuation.sum())\n",
    "ax = punctuation_normalised.plot(kind='bar', fontsize=14)\n",
    "ax.legend(loc='center left', bbox_to_anchor=(1, 0.5))"
   ]
  },
  {
   "cell_type": "markdown",
   "metadata": {},
   "source": [
    "Too many types of punctuation with very low counts. Let's just look at the most common punctuation."
   ]
  },
  {
   "cell_type": "code",
   "execution_count": 22,
   "metadata": {
    "collapsed": false
   },
   "outputs": [
    {
     "data": {
      "text/plain": [
       "<matplotlib.legend.Legend at 0x7f6540d34c88>"
      ]
     },
     "execution_count": 22,
     "metadata": {},
     "output_type": "execute_result"
    },
    {
     "data": {
      "image/png": "[encoded data removed]",
      "text/plain": [
       "<matplotlib.figure.Figure at 0x7f6540d40be0>"
      ]
     },
     "metadata": {},
     "output_type": "display_data"
    }
   ],
   "source": [
    "ax = punctuation_normalised[punctuation_normalised.sum(axis=1) > 0.1].plot(kind='barh',fontsize=14)\n",
    "ax.legend(loc='center left', bbox_to_anchor=(1, 0.5))"
   ]
  },
  {
   "cell_type": "markdown",
   "metadata": {},
   "source": [
    "## Visualising the punctuation\n",
    "Let's print the punctuation sets side-by-side to compare them."
   ]
  },
  {
   "cell_type": "code",
   "execution_count": 23,
   "metadata": {
    "collapsed": false
   },
   "outputs": [
    {
     "name": "stdout",
     "output_type": "stream",
     "text": [
      "?'\"\"!...,,.--,,,\",--.\"\".\"\",.\"-,'\",\"...,\" .',,,.!..!,.,!....,,?...'..,,.?.-,.?!!,.\n",
      "\"\".\"\"\"..,..\",.\"\",'.\".\"\"-\".\".\",\"\"\"\"\"\"\"\"\"\" ...',...!\",.\",\",\"'..?\"\".,\",,\",,,.,..?.?\"\n",
      ".\"\".\",;,\"\".'''''''''''',''''\".\",-,.--,.' \",\".\",\",,\"?.\",..\",\",.,',.',..,,(),:\".?.\"\n",
      ",--',,,\",.\"\".\"..-''..,,.,,\"',..\",\".\"\",.\" .\",\",--\".?',.',\".\".,'.\".\"',\".\".\"\"';.?\"()\n",
      "..',,\"\",\"\",....\"\"-\"\".,..,,\",,..\"\".,.,,.- ,\"'....\",,..\"?\".\",.,..\",.\"?,\",.\"...'!\",.\n",
      ",-.,,.-,,,,,.,,,,.\"\".\"\",.\"\".\",.,.\"\",.,,, .\"?\".\",',.,.\",,,.\",\",,\"?,\",\",?\":\"'....?\"\n",
      ".,\",.\",\".\"\".\"\",\";.\"\"\".\"\"\"\".\",\"\"\".\",.,,\"\" \"..-,'.',..;,.--'.\"\",,\",'.\"-,.'.\",',,,.\"\n",
      "\",.,..\"\",\"\".,,.\"\";\".\"\",\".\",-,\"\"\",,\"..\"\", ,\",,\"',',,.''.\"'.:.',,';.,,*.,,.',,,..*.\n",
      "\",.\":,,-,.\"\",\".,.--.\"\".\"!.-!,!-!-!-!,,,, ,\",\"\"?\",,;,'.,,;.,,,\",,.\",,.-.,,,,.,----\n",
      "\"\".-\"\"\"\"\"\"\"\"\"\".,\"\"\"\",!\"\"-\"\"\"\"\"\"\"\"\"\"\"\"\"\", -.,,,.,,,,.,,.,,,,,.\",\",.\",,,\",.\",.\"-,-,\n",
      "!!\"\"-\"\"\"\"..\"\"\"\"\"\".\"\"\"\",\"\"....\"\"\"\"\".\"\".\"\" ,.\",,,\".\",\",,\"?.?\",,,.\"!\".,-,,-,,.,-'.,,\n",
      ".\",.\"\"\"\"\"\"\"\"\"\"-,...\"\"\"\"...,.,.,-\"\"\"\"\"\"\"\" ..-,,,.,,,.\",,,\",.,.,.','.:\"?.\"\",,.\"\"?\".\n",
      ".\"\",\".\",.,,\"\".\"\"\"\".\"\",\"\"\"\"\"\"\"\"\".\"\".-.\"'\" .,.,,'.\",\".,,.,,,,,,-,,,..,.,'.,,,.-..,.\n",
      ".\",,.'\".\"\".\"\"\"\"\",-,,.-,\",.\"-'\".',.'.,,,. '..,,,.,,.,,,',,,..-,..',,,.'.','.\",!,,\"\n",
      ",,,,.,,,,,,,..,-,--,,.',.,-,.,.\",\",,,.\"\" ,:\",.\".,.\",\".\",\".\",\";,-..\",,,\",..--.,,,,\n",
      "\"'.,\"\"'.,,\"\";.,.'..,..,,,..-,,,.,-.,.\",, ,,,,----.,.,,.\"!\";.\",,\",...,,,,.,,',..\",\n",
      ".,,,,,,\"\"\".\",'..-,.,,,.,.,.,,,,..,..-,., '....,?\",.\".\",,.\",\",,.,,.,.',,-,,,,-,.,,\n",
      ",.\"...,?,,?,.,.,'.,.,,\"\"\".\",.,,,-.,,.\",- ,,.\"'?\",,.\",,\",.\",\".-.-,,,,..,,';,',,'.,\n",
      ",,,..,.,,'','&',..'\",,-,,.'.,,.'.,',''\", .,;.\"!\".\"!\",.,,,,.,,'-,.,.\"...,\".\"----,!\n",
      ".,.,.'.',''-,.\".',...,...,,,.''.''.!'''. \"\"?\".,,.',,.\",,,,\".,,,.:,'.,,,.,,,,,.,.,\n"
     ]
    }
   ],
   "source": [
    "line_len = 40\n",
    "for i in range(5,25):\n",
    "    print(sherlock['punctuation'][line_len*i:line_len*(i+1)], wap['punctuation'][line_len*i:line_len*(i+1)])"
   ]
  },
  {
   "cell_type": "markdown",
   "metadata": {},
   "source": [
    "Again, now I know it's working, wrap it in a function."
   ]
  },
  {
   "cell_type": "code",
   "execution_count": 40,
   "metadata": {
    "collapsed": true
   },
   "outputs": [],
   "source": [
    "def compare(text1, text2, offset=0, line_len=40, max_lines=30):\n",
    "    for i in range(offset, min(max(len(text1), len(text2)), line_len * max_lines), line_len):\n",
    "        t1 = text1[i:i+line_len]\n",
    "        t1 += (' ' * (line_len - len(t1)))\n",
    "        print(t1, text2[i:i+line_len])"
   ]
  },
  {
   "cell_type": "code",
   "execution_count": 41,
   "metadata": {
    "collapsed": false,
    "scrolled": false
   },
   "outputs": [
    {
     "name": "stdout",
     "output_type": "stream",
     "text": [
      ",,,..\"\".\",,\"\"\".\",.,,.,.\"\",\"\",.,\"\"\",\".,., !!\",.,,,,.,,.,,,,,.\",,.',\",.\"??\".\",?\"\"'?\n",
      "'.,,,,,\",.\"\";\",,..,,,-.,,,-,,,\".\"\",\",.\"\" .,\".\".\"\"'..\"\",,\",,-,.\"'!,'?.\"\"?\",.\"?,.\",\n",
      "\",,.\",..,\"\"\"\"\"\",\"\"\"\"?'\"\"!...,,.--,,,\",-- .,,.,,.,,,,,,,,.:\",'.',,,.!..!,.,!....,,\n",
      ".\"\".\"\",.\"-,'\",\"...,\"\"\".\"\"\"..,..\",.\"\",'.\" ?...'..,,.?.-,.?!!,....',...!\",.\",\",\"'..\n",
      ".\"\"-\".\".\",\"\"\"\"\"\"\"\"\"\".\"\".\",;,\"\".''''''''' ?\"\".,\",,\",,,.,..?.?\"\",\".\",\",,\"?.\",..\",\",\n",
      "''',''''\".\",-,.--,.',--',,,\",.\"\".\"..-''. .,',.',..,,(),:\".?.\".\",\",--\".?',.',\".\".,\n",
      ".,,.,,\"',..\",\".\"\",.\"..',,\"\",\"\",....\"\"-\"\" '.\".\"',\".\".\"\"';.?\"(),\"'....\",,..\"?\".\",.,\n",
      ".,..,,\",,..\"\".,.,,.-,-.,,.-,,,,,.,,,,.\"\" ..\",.\"?,\",.\"...'!\",..\"?\".\",',.,.\",,,.\",\"\n",
      ".\"\",.\"\".\",.,.\"\",.,,,.,\",.\",\".\"\".\"\",\";.\"\" ,,\"?,\",\",?\":\"'....?\"\"..-,'.',..;,.--'.\"\"\n",
      "\".\"\"\"\".\",\"\"\".\",.,,\"\"\",.,..\"\",\"\".,,.\"\";\". ,,\",'.\"-,.'.\",',,,.\",\",,\"',',,.''.\"'.:.'\n",
      "\"\",\".\",-,\"\"\",,\"..\"\",\",.\":,,-,.\"\",\".,.--. ,,';.,,*.,,.',,,..*.,\",\"\"?\",,;,'.,,;.,,,\n",
      "\"\".\"!.-!,!-!-!-!,,,,\"\".-\"\"\"\"\"\"\"\"\"\".,\"\"\"\" \",,.\",,.-.,,,,.,-----.,,,.,,,,.,,.,,,,,.\n",
      ",!\"\"-\"\"\"\"\"\"\"\"\"\"\"\"\"\",!!\"\"-\"\"\"\"..\"\"\"\"\"\".\"\" \",\",.\",,,\",.\",.\"-,-,,.\",,,\".\",\",,\"?.?\",,\n",
      "\"\",\"\"....\"\"\"\"\".\"\".\"\".\",.\"\"\"\"\"\"\"\"\"\"-,...\" ,.\"!\".,-,,-,,.,-'.,,..-,,,.,,,.\",,,\",.,.\n",
      "\"\"\"...,.,.,-\"\"\"\"\"\"\"\".\"\",\".\",.,,\"\".\"\"\"\".\" ,.','.:\"?.\"\",,.\"\"?\"..,.,,'.\",\".,,.,,,,,,\n",
      "\",\"\"\"\"\"\"\"\"\".\"\".-.\"'\".\",,.'\".\"\".\"\"\"\"\",-,, -,,,..,.,'.,,,.-..,.'..,,,.,,.,,,',,,..-\n",
      ".-,\",.\"-'\".',.'.,,,.,,,,.,,,,,,,..,-,--, ,..',,,.'.','.\",!,,\",:\",.\".,.\",\".\",\".\",\"\n",
      ",.',.,-,.,.\",\",,,.\"\"\"'.,\"\"'.,,\"\";.,.'.., ;,-..\",,,\",..--.,,,,,,,,----.,.,,.\"!\";.\"\n",
      "..,,,..-,,,.,-.,.\",,.,,,,,,\"\"\".\",'..-,., ,,\",...,,,,.,,',..\",'....,?\",.\".\",,.\",\",\n",
      ",,.,.,.,,,,..,..-,.,,.\"...,?,,?,.,.,'.,. ,.,,.,.',,-,,,,-,.,,,,.\"'?\",,.\",,\",.\",\".\n",
      ",,\"\"\".\",.,,,-.,,.\",-,,,..,.,,'','&',..'\" -.-,,,,..,,';,',,'.,.,;.\"!\".\"!\",.,,,,.,,\n",
      ",,-,,.'.,,.'.,',''\",.,.,.'.',''-,.\".',.. '-,.,.\"...,\".\"----,!\"\"?\".,,.',,.\",,,,\".,\n",
      ".,...,,,.''.''.!'''.',,,,''\"-,,,,,,.,,., ,,.:,'.,,,.,,,,,.,.,.,',.\",?\".\",\",',\"--.\n",
      ".,,.,-\"\"\";\"\"\",.,.,,,,.''..,\"\"\"\"\",.\",.,,- ...\"\",?\"\".\"\"?\"\",\",,\"!\".,,,.,,'.\"!...,,?\"\n",
      "\"\"\"\"'\"\"\"\"\"\"\"\",\"\"\"\"\"\"\"\"..\",\",...,,,.\"\"\"\". .\",\".\".?\".\",!\",'.,.\",,\",.\"',.,\",.,,,,.,,\n",
      "..,.\"\"\"\"....-.\"\"\"\",\"\"\"\"--,,,.\"\"\"\"\",-.\"'- .\",\".\",\".':\"!..\".'..-.\",?\",.\"'..\",,,.\",?\n",
      ",-..,.,.\"\",,,,,\"\"\"\"\"\".,,\"-.,,,,...,,.,,. \".\",,,\",\"...\",,,..,,''.',,;'.\",,\".\",';'-\n",
      ",.,,.',.,,.,-,-,-.\"\",,\".-..,.,\"\",\"\"..'.. -,\".\",',!.,\",.\",,\",.,,.,,,.',,.;.,----,,\n"
     ]
    }
   ],
   "source": [
    "compare(sherlock['punctuation'], wap['punctuation'], offset=100)"
   ]
  },
  {
   "cell_type": "code",
   "execution_count": 42,
   "metadata": {
    "collapsed": false
   },
   "outputs": [
    {
     "name": "stdout",
     "output_type": "stream",
     "text": [
      "..;,,',.'...,;,,.,.,,;,,',',,',,.,;',,,, ,,,..\"\".\",,\"\"\".\",.,,.,.\"\",\"\",.,\"\"\",\".,.,\n",
      ".,,,,,.;,,-,',,;'.,;,,.',;':.!,,;,.,,',' '.,,,,,\",.\"\";\",,..,,,-.,,,-,,,\".\"\",\",.\"\"\n",
      ";;',';,,'.?,',',,;,,,,,.,;,--,.,,;,;,.,, \",,.\",..,\"\"\"\"\"\",\"\"\"\"?'\"\"!...,,.--,,,\",--\n",
      "',,,,.,:,?,:,..,!??,.!,,;,,!'.,!'.,!'.,, .\"\".\"\",.\"-,'\",\"...,\"\"\".\"\"\"..,..\",.\"\",'.\"\n",
      ",,,,,,,,,,,'!':.',:,,,,'.:,,.,,:;.,,,.', .\"\"-\".\".\",\"\"\"\"\"\"\"\"\"\".\"\".\",;,\"\".'''''''''\n",
      "'-,,,,,.!',,',,',,,,,-.,.,.!??.:!-!'',,. ''',''''\".\",-,.--,.',--',,,\",.\"\".\"..-''.\n",
      ":!,,,;,,'.,,'.!,'.,.!.,.!.,.,.,,.,:!:;., .,,.,,\"',..\",\".\"\",.\"..',,\"\",\"\",....\"\"-\"\"\n",
      "':!,,'.,.-,',,',''.,-,,;,.,:;!,:'.,.,:,! .,..,,\",,..\"\".,.,,.-,-.,,.-,,,,,.,,,,.\"\"\n",
      "'!;?;;,',,.,,.,,'.';:,'.,';'',';,',.':-; .\"\",.\"\".\",.,.\"\",.,,,.,\",.\",\".\"\".\"\",\";.\"\"\n",
      ",:,.?,,.',,,-.,,;,.,,,.,,.,,.,..,..,.,,. \".\"\"\"\".\",\"\"\".\",.,,\"\"\",.,..\"\",\"\".,,.\"\";\".\n",
      "?,?,.:,;,.:.,,.:'.!.',';.,-.,..??.,,;.': \"\",\".\",-,\"\"\",,\"..\"\",\",.\":,,-,.\"\",\".,.--.\n",
      ",.,.',',!'',,;,!',;;,.,.,.,.,'.,.,.,';,' \"\".\"!.-!,!-!-!-!,,,,\"\".-\"\"\"\"\"\"\"\"\"\".,\"\"\"\"\n",
      ";,,':,,.'?,,,.,..,';,,',.',,;.,'.,,,;;'. ,!\"\"-\"\"\"\"\"\"\"\"\"\"\"\"\"\",!!\"\"-\"\"\"\"..\"\"\"\"\"\".\"\"\n",
      ";-;,';,-;,.,.?,.-,-,--,-,.,-.,;,,,-,,,:; \"\",\"\"....\"\"\"\"\".\"\".\"\".\",.\"\"\"\"\"\"\"\"\"\"-,...\"\n",
      ",,.,.,.;.;;.'.;,-.,!?,,,,,,,,,';,:;;,,:- \"\"\"...,.,.,-\"\"\"\"\"\"\"\".\"\",\".\",.,,\"\".\"\"\"\".\"\n",
      ",'.,:';.-.;,,';;,;,,,,.,,,,;,,-.,':;,,;; \",\"\"\"\"\"\"\"\"\".\"\".-.\"'\".\",,.'\".\"\".\"\"\"\"\",-,,\n",
      "-,?,,:?,';.,-,:',;,,'.,,-;,,'',;;,,.,,!. .-,\",.\"-'\".',.'.,,,.,,,,.,,,,,,,..,-,--,\n",
      ".!,.!.,:.,!?,;',,,.,?,,,',,.,,,?,?,,?:,' ,.',.,-,.,.\",\",,,.\"\"\"'.,\"\"'.,,\"\";.,.'..,\n",
      ",,,,,,,,,'.,,,';,,:',,':,;'',:::,,,,::-, ..,,,..-,,,.,-.,.\",,.,,,,,,\"\"\".\",'..-,.,\n",
      "',,.,,,,,,,.,:.;.?,.;.:,,,',',;'-;,,,,,, ,,.,.,.,,,,..,..-,.,,.\"...,?,,?,.,.,'.,.\n",
      ",,.,,;,.?,'.,,;,,.,..,!,.,:.,.',',,-'.., ,,\"\"\".\",.,,,-.,,.\",-,,,..,.,,'','&',..'\"\n",
      ",,':,'-,;''',,,-.':,-,',,--.;':.;.'.',:, ,,-,,.'.,,.'.,',''\",.,.,.'.',''-,.\".',..\n",
      ",,,,,,:,,'.?,.,.?',.'';,,.!,.,-:,:,.??,, .,...,,,.''.''.!'''.',,,,''\"-,,,,,,.,,.,\n",
      "?.;,,,:,,,,;,,.,,?,..,,;.:,;,:,?',..,';, .,,.,-\"\"\";\"\"\",.,.,,,,.''..,\"\"\"\"\",.\",.,,-\n",
      ";;:,.:;,,.,,,,.,!.,;'.',.,:,,.?,.,.,.,-, \"\"\"\"'\"\"\"\"\"\"\"\",\"\"\"\"\"\"\"\"..\",\",...,,,.\"\"\"\".\n",
      "-,:,';',:',.,::;..,..,,.,;,,;-,-,,,,.;,. ..,.\"\"\"\"....-.\"\"\"\",\"\"\"\"--,,,.\"\"\"\"\",-.\"'-\n",
      "..,-,;,-,;.,,:,,;,,:,,,;,,..;,-',!,;,.,, ,-..,.,.\"\",,,,,\"\"\"\"\"\".,,\"-.,,,,...,,.,,.\n",
      "&.,!..,-;:,,,,,',..,;,:',,,.,:,.;,,,.,;, ,.,,.',.,,.,-,-,-.\"\",,\".-..,.,\"\",\"\"..'..\n",
      ",,.!,,,'.,;;.-,,,,.:,.,,;,,;,,.'!,,,;!:! .,,\"\",\"\"...,.?,.,..\"\"\"\"!\"\"\"\"\"\"\"\"\"\"\"\"...\"\n",
      "''!,,'.!?:,,;,,.!-,-.,.',:;.,,.,,.!?.,:. -..,,,.,,,-,.,,,,.;,.,-,,.,,;,.\"\".\"\".\",,\n",
      "!.,.,';.?:,'.,,;;,,.'??!!??,.,,,..!,.?!. '\".\"'\"\"'\".\"''.,,.,'\"\"'.,\"\".-..,\",.,,.,,.\n",
      ",;.?!?:.!:.,:?',.;,,;,,;'''.??',',,,,,', .,-.,,..,..\"\",-,,--\"\".,.,',..\",\".\".\"\"\"\"\"\n",
      "?,,,,.:.!','..,;.,;,:,,,!,,,.,,!.,!!,:,. \"\"\",\"\"\"\"\",.\".,,.\"\"\"\",,.,,,.\"\"\"\"..?-,.,.,\n",
      "!!'?!!!??,?!?,;,!.!:'.?,;'.,--;.,,?.,,.? ,,\"\"\"\"-.,.,.,.;-.-.....-.,-.,,,,.,,,.;,.\n",
      "',.,.:.;,,;,,,,,:.,,.,:.?,.,:,!,;-,.,.,, -\"\"\".\".-,,.-,.\"\"\"\".,.,,.\".:\"-,\",.\"'\",.\",\n",
      "';,,,',',','',',',',',,:.,:,:;',.,.,,;,, \".,.\"\",.\"\"\"\"\"\"\",.\"\"\"\",\"\"\".\"\".\"!\"\"\"\"\"\"\"\"\"\n",
      ".?,!;,.,.,-,,;.;,,,.,:;,,..,?;,,-,;,.,., \"\"\"\"\".,.,'\"\".-!!\",.,..\".,\".\".\",.\"!.:\"\"\",\n",
      ",',.,:,;.-,?!;';,.,.,.,,,.:,.,!,.''!?,,; .\"\"\"\"\"\".\"\"\"\"-,.,,.-,,,,.,\",.\".:\".--..,.,\n",
      ",,.,-,,,,,',,'.'','.,;:,.,:;'.'!,.,,.!!. ,....,,.,,.,,...,,,,-,,.\",,..,,-,.\",;-.,\n",
      ",!,!!',',,,,:',,,,;,,,,,,,,,,.?.,!??-,?, ...,.;,.,\",\",\"\"-,\",.\"??\"\"\".\"'\"\",\";\"..\"\"\"\n",
      "!!.:;,.,:,,.-,,-,,.?,,,-,,,;,?,''?,,:';; \"..-\".\"\".\"\"\"\".\"'\".\",\"\"..-\",,,.,.'.,.,,..\n",
      "',,,,,,.,,:,,--.,.,..,;,.:,'.;;:,;',,,:. -,.,,-,.,.\",\".\"\"\".\"\"\"\".,.,,\",-.\"\",,.\",,.\n",
      "-!!!!....?;,;,,,.--,-,-',,;:,,.,!!!!,:'. ,,,\"\"\".\",,,\"\"\"\",,,.,.,.,,,.,.,.,...,,.,,\n",
      ".,:,.,?-.,,,,.-,.,,?-.-,:,--.,.,-.,;.,;, \".,,,,.,,.,,,.',--,,,.-.,,,.',.\",,,,,\".,\n",
      ",.',.';,,..,!-?.,,,,,'.-,,',;':,.,,-,,', ,.\",-,,.\".\",,.','\"\",..,\"\",,,\"\"',,,--\"\",,\n",
      ",;,,,,,'';,.,,;;,,.,;,,''..''-,?,',;,',' .\"\",\"\",\"\"..'.,,-,\"..\",\".\",,\"\",\",\".'',,,.\n",
      ".:.;.!?.;,,,.,',,..'?'',,'.';,,.',,';,,, ,.\"\",\".\"..,\":\"-:,,,..,.--,.,',,,',\"\"\".,.\n",
      ",.'??!,?.,!,!''.?'!!,,';','?!,,?;,,.':', \",'\".\",.,,,.,,\"\",.\"\".,.\"\",,.\",;\"',.',.,;\n"
     ]
    }
   ],
   "source": [
    "compare(shakespeare['punctuation'], sherlock['punctuation'], offset=100, max_lines=50)"
   ]
  },
  {
   "cell_type": "code",
   "execution_count": 43,
   "metadata": {
    "collapsed": false
   },
   "outputs": [
    {
     "name": "stdout",
     "output_type": "stream",
     "text": [
      ",,,..\"\".\",,\"\"\".\",.,,.,.\"\",\"\",.,\"\"\",\".,., ?,,:--?!,.--,,.--,?--?.--,'?..'.,!..,,.'\n",
      "'.,,,,,\",.\"\";\",,..,,,-.,,,-,,,\".\"\",\",.\"\" .,:,-..--,.?--!.?--,.'..',....--!.,',:--\n",
      "\",,.\",..,\"\"\"\"\"\",\"\"\"\"?'\"\"!...,,.--,,,\",-- ...,,:--'!:.,'?,.--!.':?..__.,,!.._!_!..\n",
      ".\"\".\"\",.\"-,'\",\"...,\"\"\".\"\"\"..,..\",.\"\",'.\" ..--!.'.--,.''.--,.--,,,,.'........--!.,\n",
      ".\"\"-\".\".\",\"\"\"\"\"\"\"\"\"\".\"\".\",;,\"\".''''''''' !,,.,,-.,,.,,,,,,,.....--,!..?--,..--,..\n",
      "''',''''\".\",-,.--,.',--',,,\",.\"\".\"..-''. .,.'.',.'.--,.'.--',..'...--,,...'.!...-\n",
      ".,,.,,\"',..\",\".\"\",.\"..',,\"\",\"\",....\"\"-\"\" -,,!,...?..--',.....,'.--,.!,:--.-.',.--\n",
      ".,..,,\",,..\"\".,.,,.-,-.,,.-,,,,,.,,,,.\"\" ',,?.....--!.''..,,..'..--.'.'???''.'.:,\n",
      ".\"\",.\"\".\",.,.\"\",.,,,.,\",.\",\".\"\".\"\",\";.\"\" .,!,!!,,'.'.'!'!.,,',........--,.'.--?..\n",
      "\".\"\"\"\".\",\"\"\".\",.,,\"\"\",.,..\"\",\"\".,,.\"\";\". '.?,..--?.--,?.'.'.,.,,:--'?:--??'..??--\n",
      "\"\",\".\",-,\"\"\",,\"..\"\",\",.\":,,-,.\"\",\".,.--. ,,...--?.?.--,,_,'._'.--?.??.--,,'?..'.'\n",
      "\"\".\"!.-!,!-!-!-!,,,,\"\".-\"\"\"\"\"\"\"\"\"\".,\"\"\"\" .'.?,'.'...'.''.!.'..,,:--.--?.--,..--,!\n",
      ",!\"\"-\"\"\"\"\"\"\"\"\"\"\"\"\"\",!!\"\"-\"\"\"\"..\"\"\"\"\"\".\"\" ..,..,,.:--,?--',.:--.?,,..,:--',.'..:_'\n",
      "\"\",\"\"....\"\"\"\"\".\"\".\"\".\",.\"\"\"\"\"\"\"\"\"\"-,...\" ._.,..,.,..,,.,.':,.:...,:'.?:,,,..:_._,\n",
      "\"\"\"...,.,.,-\"\"\"\"\"\"\"\".\"\",\".\",.,,\"\".\"\"\"\".\" :._._...,,.'.,,,,,,.,,....,.._:._!!,!.--\n",
      "\",\"\"\"\"\"\"\"\"\".\"\".-.\"'\".\",,.'\".\"\".\"\"\"\"\",-,, !'.,.,',.--,,...'.--',,.--,',...--.'.,?,\n",
      ".-,\",.\"-'\".',.'.,,,.,,,,.,,,,,,,..,-,--, .--,.--?.??.--,.--,.'..,:_,',,!,!,'!_.,,\n",
      ",.',.,-,.,.\",\",,,.\"\"\"'.,\"\"'.,,\"\";.,.'.., .?,?,,,.....',.:,.--',.,,?.,.--?.--,.,'!\n",
      "..,,,..-,,,.,-.,.\",,.,,,,,,\"\"\".\",'..-,., ,:--!--',,.,,.,...,.--',,...,!!,!,,.,..,\n",
      ",,.,.,.,,,,..,..-,.,,.\"...,?,,?,.,.,'.,. ,.'?,,'...--?..--,.'.--,!..:--.--!,....,\n",
      ",,\"\"\".\",.,,,-.,,.\",-,,,..,.,,'','&',..'\" '.,:--_._.--',.,,,,'?,,':--,..--,,.:--_,\n",
      ",,-,,.'.,,.'.,',''\",.,.,.'.',''-,.\".',.. ,_._,',_,_'._,.--',,,...,:--,,'?--,.--?.\n",
      ".,...,,,.''.''.!'''.',,,,''\"-,,,,,,.,,., ,?--,,.,,.'.--!,.?!,,:_--'.,..._..--,!--\n",
      ".,,.,-\"\"\";\"\"\",.,.,,,,.''..,\"\"\"\"\",.\",.,,- ,',.,.'.--',,..--?,.,!.--,,.--,?.--,.,..\n",
      "\"\"\"\"'\"\"\"\"\"\"\"\",\"\"\"\"\"\"\"\"..\",\",...,,,.\"\"\"\". .,.,.,,.,.,.,,,.,:.--,',,.--,,..--,,'.,,\n",
      "..,.\"\"\"\"....-.\"\"\"\",\"\"\"\"--,,,.\"\"\"\"\",-.\"'- '.--,?.--,',.--,..,,:.','','..--?.--,?.,\n",
      ",-..,.,.\"\",,,,,\"\"\"\"\"\".,,\"-.,,,,...,,.,,. .--,.?--,,.,?--,.--',,.--,,''.''.--,..,.\n",
      ",.,,.',.,,.,-,-,-.\"\",,\".-..,.,\"\",\"\"..'.. ,'?--,,,,.:--?,,'?.--,?,.,'.',.,,.--,,.,\n"
     ]
    }
   ],
   "source": [
    "compare(sherlock['punctuation'], ulysses['punctuation'], offset=100)"
   ]
  },
  {
   "cell_type": "code",
   "execution_count": 44,
   "metadata": {
    "collapsed": false
   },
   "outputs": [
    {
     "name": "stdout",
     "output_type": "stream",
     "text": [
      ",,,..\"\".\",,\"\"\".\",.,,.,.\"\",\"\",.,\"\"\",\".,., .,\",\"!.\"\"?\"\"!,!__,.\"\".,,,,..\"\",.__,.-,.\"\n",
      "'.,,,,,\",.\"\";\",,..,,,-.,,,-,,,\".\"\",\",.\"\" \",.\"\",,..\"\",.\"\"..,,,,.,__.\"\"-,..;;.\"\".;,\n",
      "\",,.\",..,\"\"\"\"\"\",\"\"\"\"?'\"\"!...,,.--,,,\",-- -.__.\"\",\";\";.\"\".,__?..\"\",....\"\",.\"\",.\"\",\n",
      ".\"\".\"\",.\"-,'\",\"...,\"\"\".\"\"\"..,..\",.\"\",'.\" ,.\"\",,,.\".,,,,--.__.,,.,.;....,;..,:\".,.\n",
      ".\"\"-\".\".\",\"\"\"\"\"\"\"\"\"\".\"\".\",;,\"\".''''''''' \"\"__.,\",\".\"\",,\",\",..\"\"...,,.\"\",\".;\".\".,,\n",
      "''',''''\".\",-,.--,.',--',,,\",.\"\".\"..-''. ,.\"',,'!..\"\",\";\".\"\",\".\",?\"\"-.\"\",,\",\".;,.\n",
      ".,,.,,\"',..\",\".\"\",.\"..',,\"\",\"\",....\"\"-\"\" \"\",,,.__.\"\",.,,;?\"\".'..__;,.;,,,,.\"..,\",\n",
      ".,..,,\",,..\"\".,.,,.-,-.,,.-,,,,,.,,,,.\"\" !\"\"?\".\",,?__.,?,,.\",.\",\",\"..\"\".,\".\"__;?.\n",
      ".\"\",.\"\".\",.,.\"\",.,,,.,\",.\",\".\"\".\"\",\";.\"\" ;,.\";.;,,.\",.!..,!,,.\"\",,,\".;,,,.\",!\",.\"\n",
      "\".\"\"\"\".\",\"\"\".\",.,,\"\"\",.,..\"\",\"\".,,.\"\";\". ;,,.,,;,.,,__,..\"\"!\",\";__,'.\".',..,,,,..\n",
      "\"\",\".\",-,\"\"\",,\"..\"\",\",.\":,,-,.\"\",\".,.--. --,,;,-,...,,,,,.!;.'.\",\".,\",.\"..',.,;.,\n",
      "\"\".\"!.-!,!-!-!-!,,,,\"\".-\"\"\"\"\"\"\"\"\"\".,\"\"\"\" ,.;.,..,,,,...;,.;..,,--.--.,,,..-;,,.,.\n",
      ",!\"\"-\"\"\"\"\"\"\"\"\"\"\"\"\"\",!!\"\"-\"\"\"\"..\"\"\"\"\"\".\"\" --,.,;.,,,,,.,.,,;;,;,,..;,,,..!..,,,..,\n",
      "\"\",\"\"....\"\"\"\"\".\"\".\"\".\",.\"\"\"\"\"\"\"\"\"\"-,...\" ,..,.,,;,..,,.\",,\",\"...\"\".,..,.\"\",\".,\"!,\n",
      "\"\"\"...,.,.,-\"\"\"\"\"\"\"\".\"\",\".\",.,,\"\".\"\"\"\".\" ;.\"\"__,\".,.\"!!,,..\"\"?\",,:\",__;.,.\"...;.,\n",
      "\",\"\"\"\"\"\"\"\"\".\"\".-.\"'\".\",,.'\".\"\".\"\"\"\"\",-,, ,;,,.....,.,.'.;,.,,,,...;.';.\"!.,\",\",..\n",
      ".-,\",.\"-'\".',.'.,,,.,,,,.,,,,,,,..,-,--, ,.;.,!__,;!.,.!,,;,,;.,,.,,,,__--\"\"__,\",\n",
      ",.',.,-,.,.\",\",,,.\"\"\"'.,\"\"'.,,\"\";.,.'.., \"!',.!\"\"!,.!...'--\"...,,,..\",\",\"__;,,.!,\n",
      "..,,,..-,,,.,-.,.\",,.,,,,,,\"\"\".\",'..-,., ,!!,,-..\",,.,.\",\",\",-,;!--,!\"\",\",\",..\"\".\n",
      ",,.,.,.,,,,..,..-,.,,.\"...,?,,?,.,.,'.,. .\"\"?..__,__.?..,,..\"\"!\"\"!,,....\"\";.\"\";__\n",
      ",,\"\"\".\",.,,,-.,,.\",-,,,..,.,,'','&',..'\" .__,!--.--',--.',,?.\"\"--..,;.\",;;,,.;,,.\n",
      ",,-,,.'.,,.'.,',''\",.,.,.'.',''-,.\".',.. ,,,,,,.;'..,,..,;,,,.;,,--.,,..,.,----,,\n",
      ".,...,,,.''.''.!'''.',,,,''\"-,,,,,,.,,., .,.,,,,.',,.,.,.,,,,-,..,..;;,;;,,.,,,,.\n",
      ".,,.,-\"\"\";\"\"\",.,.,,,,.''..,\"\"\"\"\",.\",.,,- ,..--,,.,..,,..,;,,,,,,,.,,;,.,,,.'.,...\n",
      "\"\"\"\"'\"\"\"\"\"\"\"\",\"\"\"\"\"\"\"\"..\",\",...,,,.\"\"\"\". ,,,-,'.;.\"__,,\".-.\"__.'.\"\";.\"\"!,,.__--__\n",
      "..,.\"\"\"\"....-.\"\"\"\",\"\"\"\"--,,,.\"\"\"\"\",-.\"'- ------..\"\".;?.',,__?:'!,;.'\"\"!,----,,,.\"\n",
      ",-..,.,.\"\",,,,,\"\"\"\"\"\".,,\"-.,,,,...,,.,,. \"____,,\".\".,?--!--__.\"\"'-,,..--.\"\",'?--?\n",
      ",.,,.',.,,.,-,-,-.\"\",,\".-..,.,\"\",\"\"..'.. \".\"..\"\"--,;.\"\",\",\",.__.\"\",.,..;,.,.\"\".,\"\n"
     ]
    }
   ],
   "source": [
    "compare(sherlock['punctuation'], pap['punctuation'], offset=100)"
   ]
  },
  {
   "cell_type": "markdown",
   "metadata": {},
   "source": [
    "### Compare more than two texts at a time"
   ]
  },
  {
   "cell_type": "code",
   "execution_count": 29,
   "metadata": {
    "collapsed": true
   },
   "outputs": [],
   "source": [
    "def compare_many(*texts, offset=0, line_len=100, gap=' ', max_lines=30):\n",
    "    def padded_segment(text, start, length):\n",
    "        segment = text[start:start+segment_len]\n",
    "        segment += (' ' * (segment_len - len(segment)))\n",
    "        return segment\n",
    "    segment_len = line_len // len(texts) - len(gap)\n",
    "    max_len = min(max(len(text) for text in texts), segment_len * max_lines)\n",
    "    for i in range(offset, max_len, segment_len):\n",
    "        segments = [padded_segment(text, i, segment_len) for text in texts]\n",
    "        print(gap.join(segments))"
   ]
  },
  {
   "cell_type": "code",
   "execution_count": 45,
   "metadata": {
    "collapsed": false
   },
   "outputs": [
    {
     "name": "stdout",
     "output_type": "stream",
     "text": [
      "..-.......'.........,,,., ,.,-..:::,[#]:,:,]::***** ,.,-..::::,[#]:,:******,/\n",
      ",,.,.-'..,-,.,,...,-,,,,, *,,.,,.\".,\",\"?\"..\",\";\".,. :::::-:-:-:-:::::::-:-:\",\n",
      ",,,.,,,,.:,,.,,,.-,-(,.-, \"..\"?\".\"__,.\".\",,,.;,,.;, ,.,',----,','!?--.\",,-,.,\n",
      ",,,.,,,,.,,.,,..-...;,,., .\"\"?\"\".\"\"?\"\"!,,!;.!\"\"??\"\" ,..,,;.,.,,-,:\",(),,--.\"\"\n",
      ",,,..\"\".\",,\"\"\".\",.,,.,.\"\" .,\",\"!.\"\"?\"\"!,!__,.\"\".,,, !!\",.,,,,.,,.,,,,,.\",,.',\n",
      ",\"\",.,\"\"\",\".,.,'.,,,,,\",. ,..\"\",.__,.-,.\"\",.\"\",,..\" \",.\"??\".\",?\"\"'?.,\".\".\"\"'.\n",
      "\"\";\",,..,,,-.,,,-,,,\".\"\", \",.\"\"..,,,,.,__.\"\"-,..;;. .\"\",,\",,-,.\"'!,'?.\"\"?\",.\"\n",
      "\",.\"\"\",,.\",..,\"\"\"\"\"\",\"\"\"\" \"\".;,-.__.\"\",\";\";.\"\".,__? ?,.\",.,,.,,.,,,,,,,,.:\",'\n",
      "?'\"\"!...,,.--,,,\",--.\"\".\" ..\"\",....\"\",.\"\",.\"\",,.\"\", .',,,.!..!,.,!....,,?...'\n",
      "\",.\"-,'\",\"...,\"\"\".\"\"\"..,. ,,.\".,,,,--.__.,,.,.;.... ..,,.?.-,.?!!,....',...!\"\n",
      ".\",.\"\",'.\".\"\"-\".\".\",\"\"\"\"\" ,;..,:\".,.\"\"__.,\",\".\"\",,\" ,.\",\",\"'..?\"\".,\",,\",,,.,.\n",
      "\"\"\"\"\".\"\".\",;,\"\".''''''''' ,\",..\"\"...,,.\"\",\".;\".\".,, .?.?\"\",\".\",\",,\"?.\",..\",\",\n",
      "''',''''\".\",-,.--,.',--', ,.\"',,'!..\"\",\";\".\"\",\".\",? .,',.',..,,(),:\".?.\".\",\",\n",
      ",,\",.\"\".\"..-''..,,.,,\"',. \"\"-.\"\",,\",\".;,.\"\",,,.__.\" --\".?',.',\".\".,'.\".\"',\".\"\n",
      ".\",\".\"\",.\"..',,\"\",\"\",.... \",.,,;?\"\".'..__;,.;,,,,.\" .\"\"';.?\"(),\"'....\",,..\"?\"\n",
      "\"\"-\"\".,..,,\",,..\"\".,.,,.- ..,\",!\"\"?\".\",,?__.,?,,.\", .\",.,..\",.\"?,\",.\"...'!\",.\n",
      ",-.,,.-,,,,,.,,,,.\"\".\"\",. .\",\",\"..\"\".,\".\"__;?.;,.\"; .\"?\".\",',.,.\",,,.\",\",,\"?,\n",
      "\"\".\",.,.\"\",.,,,.,\",.\",\".\" .;,,.\",.!..,!,,.\"\",,,\".;, \",\",?\":\"'....?\"\"..-,'.',.\n",
      "\".\"\",\";.\"\"\".\"\"\"\".\",\"\"\".\", ,,.\",!\",.\";,,.,,;,.,,__,. .;,.--'.\"\",,\",'.\"-,.'.\",'\n",
      ".,,\"\"\",.,..\"\",\"\".,,.\"\";\". .\"\"!\",\";__,'.\".',..,,,,.. ,,,.\",\",,\"',',,.''.\"'.:.'\n",
      "\"\",\".\",-,\"\"\",,\"..\"\",\",.\": --,,;,-,...,,,,,.!;.'.\",\" ,,';.,,*.,,.',,,..*.,\",\"\"\n",
      ",,-,.\"\",\".,.--.\"\".\"!.-!,! .,\",.\"..',.,;.,,.;.,..,,, ?\",,;,'.,,;.,,,\",,.\",,.-.\n",
      "-!-!-!,,,,\"\".-\"\"\"\"\"\"\"\"\"\". ,...;,.;..,,--.--.,,,..-; ,,,,.,-----.,,,.,,,,.,,.,\n",
      ",\"\"\"\",!\"\"-\"\"\"\"\"\"\"\"\"\"\"\"\"\", ,,.,.--,.,;.,,,,,.,.,,;;, ,,,,.\",\",.\",,,\",.\",.\"-,-,\n",
      "!!\"\"-\"\"\"\"..\"\"\"\"\"\".\"\"\"\",\"\" ;,,..;,,,..!..,,,..,,..,. ,.\",,,\".\",\",,\"?.?\",,,.\"!\"\n",
      "....\"\"\"\"\".\"\".\"\".\",.\"\"\"\"\"\" ,,;,..,,.\",,\",\"...\"\".,.., .,-,,-,,.,-'.,,..-,,,.,,,\n",
      "\"\"\"\"-,...\"\"\"\"...,.,.,-\"\"\" .\"\",\".,\"!,;.\"\"__,\".,.\"!!, .\",,,\",.,.,.','.:\"?.\"\",,.\n",
      "\"\"\"\"\".\"\",\".\",.,,\"\".\"\"\"\".\" ,..\"\"?\",,:\",__;.,.\"...;., \"\"?\"..,.,,'.\",\".,,.,,,,,,\n",
      "\",\"\"\"\"\"\"\"\"\".\"\".-.\"'\".\",,. ,;,,.....,.,.'.;,.,,,,... -,,,..,.,'.,,,.-..,.'..,,\n",
      "'\".\"\".\"\"\"\"\",-,,.-,\",.\"-'\" ;.';.\"!.,\",\",..,.;.,!__,; ,.,,.,,,',,,..-,..',,,.'.\n"
     ]
    }
   ],
   "source": [
    "compare_many(sherlock['punctuation'], pap['punctuation'], wap['punctuation'], line_len=80)"
   ]
  },
  {
   "cell_type": "code",
   "execution_count": 46,
   "metadata": {
    "collapsed": false
   },
   "outputs": [
    {
     "name": "stdout",
     "output_type": "stream",
     "text": [
      ",,,..\"\".\",,\"\"\".\",.,,., <> .,\",\"!.\"\"?\"\"!,!__,.\"\". <> !!\",.,,,,.,,.,,,,,.\",,\n",
      ".\"\",\"\",.,\"\"\",\".,.,'.,, <> ,,,,..\"\",.__,.-,.\"\",.\" <> .',\",.\"??\".\",?\"\"'?.,\".\n",
      ",,,\",.\"\";\",,..,,,-.,,, <> \",,..\"\",.\"\"..,,,,.,__. <> \".\"\"'..\"\",,\",,-,.\"'!,'\n",
      "-,,,\".\"\",\",.\"\"\",,.\",.. <> \"\"-,..;;.\"\".;,-.__.\"\", <> ?.\"\"?\",.\"?,.\",.,,.,,.,\n",
      ",\"\"\"\"\"\",\"\"\"\"?'\"\"!...,, <> \";\";.\"\".,__?..\"\",....\" <> ,,,,,,,.:\",'.',,,.!..!\n",
      ".--,,,\",--.\"\".\"\",.\"-,' <> \",.\"\",.\"\",,.\"\",,,.\".,, <> ,.,!....,,?...'..,,.?.\n",
      "\",\"...,\"\"\".\"\"\"..,..\",. <> ,,--.__.,,.,.;....,;.. <> -,.?!!,....',...!\",.\",\n",
      "\"\",'.\".\"\"-\".\".\",\"\"\"\"\"\" <> ,:\".,.\"\"__.,\",\".\"\",,\", <> \",\"'..?\"\".,\",,\",,,.,..\n",
      "\"\"\"\".\"\".\",;,\"\".''''''' <> \",..\"\"...,,.\"\",\".;\".\". <> ?.?\"\",\".\",\",,\"?.\",..\",\n",
      "''''',''''\".\",-,.--,.' <> ,,,.\"',,'!..\"\",\";\".\"\", <> \",.,',.',..,,(),:\".?.\"\n",
      ",--',,,\",.\"\".\"..-''.., <> \".\",?\"\"-.\"\",,\",\".;,.\"\" <> .\",\",--\".?',.',\".\".,'.\n",
      ",.,,\"',..\",\".\"\",.\"..', <> ,,,.__.\"\",.,,;?\"\".'.._ <> \".\"',\".\".\"\"';.?\"(),\"'.\n",
      ",\"\",\"\",....\"\"-\"\".,..,, <> _;,.;,,,,.\"..,\",!\"\"?\". <> ...\",,..\"?\".\",.,..\",.\"\n",
      "\",,..\"\".,.,,.-,-.,,.-, <> \",,?__.,?,,.\",.\",\",\".. <> ?,\",.\"...'!\",..\"?\".\",'\n",
      ",,,,.,,,,.\"\".\"\",.\"\".\", <> \"\".,\".\"__;?.;,.\";.;,,. <> ,.,.\",,,.\",\",,\"?,\",\",?\n",
      ".,.\"\",.,,,.,\",.\",\".\"\". <> \",.!..,!,,.\"\",,,\".;,,, <> \":\"'....?\"\"..-,'.',..;\n",
      "\"\",\";.\"\"\".\"\"\"\".\",\"\"\".\" <> .\",!\",.\";,,.,,;,.,,__, <> ,.--'.\"\",,\",'.\"-,.'.\",\n",
      ",.,,\"\"\",.,..\"\",\"\".,,.\" <> ..\"\"!\",\";__,'.\".',..,, <> ',,,.\",\",,\"',',,.''.\"'\n",
      "\";\".\"\",\".\",-,\"\"\",,\"..\" <> ,,..--,,;,-,...,,,,,.! <> .:.',,';.,,*.,,.',,,..\n",
      "\",\",.\":,,-,.\"\",\".,.--. <> ;.'.\",\".,\",.\"..',.,;., <> *.,\",\"\"?\",,;,'.,,;.,,,\n",
      "\"\".\"!.-!,!-!-!-!,,,,\"\" <> ,.;.,..,,,,...;,.;..,, <> \",,.\",,.-.,,,,.,-----.\n",
      ".-\"\"\"\"\"\"\"\"\"\".,\"\"\"\",!\"\" <> --.--.,,,..-;,,.,.--,. <> ,,,.,,,,.,,.,,,,,.\",\",\n",
      "-\"\"\"\"\"\"\"\"\"\"\"\"\"\",!!\"\"-\" <> ,;.,,,,,.,.,,;;,;,,..; <> .\",,,\",.\",.\"-,-,,.\",,,\n",
      "\"\"\"..\"\"\"\"\"\".\"\"\"\",\"\"... <> ,,,..!..,,,..,,..,.,,; <> \".\",\",,\"?.?\",,,.\"!\".,-\n",
      ".\"\"\"\"\".\"\".\"\".\",.\"\"\"\"\"\" <> ,..,,.\",,\",\"...\"\".,.., <> ,,-,,.,-'.,,..-,,,.,,,\n",
      "\"\"\"\"-,...\"\"\"\"...,.,.,- <> .\"\",\".,\"!,;.\"\"__,\".,.\" <> .\",,,\",.,.,.','.:\"?.\"\"\n"
     ]
    }
   ],
   "source": [
    "compare_many(sherlock['punctuation'], pap['punctuation'], wap['punctuation'], \n",
    "             gap=' <> ', offset=100, line_len=80)"
   ]
  },
  {
   "cell_type": "markdown",
   "metadata": {
    "collapsed": true
   },
   "source": [
    "## Making images\n",
    "The text versions are fine, but let's turn the punctuation into images, with a coloured square for each punctuation character."
   ]
  },
  {
   "cell_type": "markdown",
   "metadata": {},
   "source": [
    "Start with just trying to get something out"
   ]
  },
  {
   "cell_type": "code",
   "execution_count": 32,
   "metadata": {
    "collapsed": false
   },
   "outputs": [],
   "source": [
    "# Periods and question marks and exclamation marks are red. \n",
    "# Commas and quotation marks are green. \n",
    "# Semicolons and colons are blue. \n",
    "colours = {'.': (255, 0, 0), '?': (255, 0, 0), '!': (255, 0, 0),\n",
    "           ',': (0, 255, 0), '\"': (0, 255, 0), \"'\": (0, 255, 0),\n",
    "           ':': (0, 0, 255),  ';': (0, 0, 255),\n",
    "           'unknown': (128, 128, 128)}\n",
    "max_x = 1000\n",
    "max_y = 400\n",
    "block_size = 4\n",
    "text = sherlock['punctuation']\n",
    "img = Image.new('RGBA', (max_x, max_y))\n",
    "draw = ImageDraw.Draw(img)\n",
    "x = 0\n",
    "y = 0\n",
    "i = 0\n",
    "# for i in range(100):\n",
    "#     if text[i] in colours:\n",
    "#         this_colour = colours[text[i]]\n",
    "for p in text:\n",
    "    if p in colours:\n",
    "        this_colour = colours[p]\n",
    "    else:\n",
    "        this_colour = colours['unknown']\n",
    "    draw.rectangle((x, y, x+block_size, y+block_size), fill=this_colour)\n",
    "    x += block_size\n",
    "    if x >= max_x:\n",
    "        x = 0\n",
    "        y += block_size\n",
    "img.save('test.png')"
   ]
  },
  {
   "cell_type": "markdown",
   "metadata": {},
   "source": [
    "The image: \n",
    "![alt text](test.png)"
   ]
  },
  {
   "cell_type": "markdown",
   "metadata": {},
   "source": [
    "Rearrange the colours to match the \"heatmaps\" in [the original](https://medium.com/@neuroecology/punctuation-in-novels-8f316d542ec4#.qwj8e1n8m), and wrap the whole thing in a function."
   ]
  },
  {
   "cell_type": "code",
   "execution_count": 33,
   "metadata": {
    "collapsed": false
   },
   "outputs": [],
   "source": [
    "# Periods and question marks and exclamation marks are red. \n",
    "# Commas and quotation marks are -green- blue. \n",
    "# Semicolons and colons are -blue- green. \n",
    "def make_image(text, block_size=4, width=1000, colours=None):\n",
    "    default_colours = {'.': (255, 0, 0), '?': (255, 0, 0), '!': (255, 0, 0),\n",
    "           ',': (0, 0, 255), '\"': (0, 0, 255), \"'\": (0, 0, 255),\n",
    "           ':': (0, 255, 0),  ';': (0, 255, 0),\n",
    "           'unknown': (128, 128, 128)}\n",
    "    if not colours:\n",
    "        colours = {}\n",
    "    use_colours = default_colours.copy()\n",
    "    use_colours.update(colours)\n",
    "    height = ceil((len(text) * block_size) / width)\n",
    "    img = Image.new('RGBA', (width, height))\n",
    "    draw = ImageDraw.Draw(img)\n",
    "    x = 0\n",
    "    y = 0\n",
    "    for p in text:\n",
    "        if p in use_colours:\n",
    "            this_colour = use_colours[p]\n",
    "        else:\n",
    "            this_colour = use_colours['unknown']\n",
    "        draw.rectangle((x, y, x+block_size, y+block_size), fill=this_colour)\n",
    "        x += block_size\n",
    "        if x >= width:\n",
    "            x = 0\n",
    "            y += block_size\n",
    "    return img"
   ]
  },
  {
   "cell_type": "code",
   "execution_count": 34,
   "metadata": {
    "collapsed": false
   },
   "outputs": [],
   "source": [
    "i = make_image(sherlock['punctuation'])\n",
    "i.save('sherlock.png')"
   ]
  },
  {
   "cell_type": "code",
   "execution_count": 35,
   "metadata": {
    "collapsed": true
   },
   "outputs": [],
   "source": [
    "i = make_image(wap['punctuation'], block_size=6, colours={'-': (255,255,255)})\n",
    "i.save('wap.png')"
   ]
  },
  {
   "cell_type": "code",
   "execution_count": 36,
   "metadata": {
    "collapsed": false
   },
   "outputs": [],
   "source": [
    "i = make_image(wap['punctuation'], colours={'-': (255,255,255), '(': (255, 165, 0), ')': (255, 165, 0)})\n",
    "i.save('wap.png')"
   ]
  },
  {
   "cell_type": "code",
   "execution_count": 37,
   "metadata": {
    "collapsed": true
   },
   "outputs": [],
   "source": [
    "i = make_image(shakespeare['punctuation'])\n",
    "i.save('shakespeare.png')"
   ]
  },
  {
   "cell_type": "code",
   "execution_count": 38,
   "metadata": {
    "collapsed": true
   },
   "outputs": [],
   "source": [
    "i = make_image(ulysses['punctuation'], colours={'-': (255,255,255), '(': (255, 165, 0), ')': (255, 165, 0)})\n",
    "i.save('ulysses.png')"
   ]
  },
  {
   "cell_type": "code",
   "execution_count": 39,
   "metadata": {
    "collapsed": true
   },
   "outputs": [],
   "source": [
    "i = make_image(pap['punctuation'])\n",
    "i.save('pap.png')"
   ]
  },
  {
   "cell_type": "markdown",
   "metadata": {
    "collapsed": true
   },
   "source": [
    "Sherlock: \n",
    "![alt text](sherlock.png)\n",
    "\n",
    "War and Peace:\n",
    "![alt text](wap.png)\n",
    "\n",
    "Shakespeare:\n",
    "![alt text](shakespeare.png)\n",
    "\n",
    "Ulysses:\n",
    "![alt text](ulysses.png)\n",
    "\n",
    "Pride and Prejudice:\n",
    "![alt text](pap.png)"
   ]
  },
  {
   "cell_type": "code",
   "execution_count": null,
   "metadata": {
    "collapsed": true
   },
   "outputs": [],
   "source": []
  }
 ],
 "metadata": {
  "kernelspec": {
   "display_name": "Python 3",
   "language": "python",
   "name": "python3"
  },
  "language_info": {
   "codemirror_mode": {
    "name": "ipython",
    "version": 3
   },
   "file_extension": ".py",
   "mimetype": "text/x-python",
   "name": "python",
   "nbconvert_exporter": "python",
   "pygments_lexer": "ipython3",
   "version": "3.4.3+"
  }
 },
 "nbformat": 4,
 "nbformat_minor": 0
}
